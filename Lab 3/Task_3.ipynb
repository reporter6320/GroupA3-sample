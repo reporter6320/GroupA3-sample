{
 "cells": [
  {
   "cell_type": "code",
   "execution_count": 1,
   "id": "82ac37ae",
   "metadata": {
    "vscode": {
     "languageId": "r"
    }
   },
   "outputs": [],
   "source": [
    "data <- read.csv(\"Data_T3.csv\")"
   ]
  },
  {
   "cell_type": "code",
   "execution_count": 2,
   "id": "fd87d3f0",
   "metadata": {
    "vscode": {
     "languageId": "r"
    }
   },
   "outputs": [
    {
     "data": {
      "text/html": [
       "<table class=\"dataframe\">\n",
       "<caption>A data.frame: 6 × 9</caption>\n",
       "<thead>\n",
       "\t<tr><th></th><th scope=col>X</th><th scope=col>ID</th><th scope=col>TreatmentGroup</th><th scope=col>Age</th><th scope=col>Sex</th><th scope=col>ECOG_PS</th><th scope=col>GFR</th><th scope=col>Time</th><th scope=col>Event</th></tr>\n",
       "\t<tr><th></th><th scope=col>&lt;int&gt;</th><th scope=col>&lt;int&gt;</th><th scope=col>&lt;chr&gt;</th><th scope=col>&lt;int&gt;</th><th scope=col>&lt;chr&gt;</th><th scope=col>&lt;int&gt;</th><th scope=col>&lt;int&gt;</th><th scope=col>&lt;dbl&gt;</th><th scope=col>&lt;int&gt;</th></tr>\n",
       "</thead>\n",
       "<tbody>\n",
       "\t<tr><th scope=row>1</th><td>1</td><td>1</td><td>Treatment</td><td>73</td><td>Female</td><td>2</td><td> 83</td><td> 0.6</td><td>1</td></tr>\n",
       "\t<tr><th scope=row>2</th><td>2</td><td>2</td><td>Treatment</td><td>62</td><td>Male  </td><td>0</td><td> 86</td><td> 6.3</td><td>1</td></tr>\n",
       "\t<tr><th scope=row>3</th><td>3</td><td>3</td><td>Treatment</td><td>61</td><td>Female</td><td>0</td><td> 98</td><td>57.7</td><td>0</td></tr>\n",
       "\t<tr><th scope=row>4</th><td>4</td><td>4</td><td>Treatment</td><td>66</td><td>Male  </td><td>1</td><td> 58</td><td> 0.7</td><td>1</td></tr>\n",
       "\t<tr><th scope=row>5</th><td>5</td><td>5</td><td>Treatment</td><td>88</td><td>Female</td><td>0</td><td>120</td><td>30.7</td><td>0</td></tr>\n",
       "\t<tr><th scope=row>6</th><td>6</td><td>6</td><td>Treatment</td><td>73</td><td>Male  </td><td>0</td><td> 55</td><td> 6.5</td><td>1</td></tr>\n",
       "</tbody>\n",
       "</table>\n"
      ],
      "text/latex": [
       "A data.frame: 6 × 9\n",
       "\\begin{tabular}{r|lllllllll}\n",
       "  & X & ID & TreatmentGroup & Age & Sex & ECOG\\_PS & GFR & Time & Event\\\\\n",
       "  & <int> & <int> & <chr> & <int> & <chr> & <int> & <int> & <dbl> & <int>\\\\\n",
       "\\hline\n",
       "\t1 & 1 & 1 & Treatment & 73 & Female & 2 &  83 &  0.6 & 1\\\\\n",
       "\t2 & 2 & 2 & Treatment & 62 & Male   & 0 &  86 &  6.3 & 1\\\\\n",
       "\t3 & 3 & 3 & Treatment & 61 & Female & 0 &  98 & 57.7 & 0\\\\\n",
       "\t4 & 4 & 4 & Treatment & 66 & Male   & 1 &  58 &  0.7 & 1\\\\\n",
       "\t5 & 5 & 5 & Treatment & 88 & Female & 0 & 120 & 30.7 & 0\\\\\n",
       "\t6 & 6 & 6 & Treatment & 73 & Male   & 0 &  55 &  6.5 & 1\\\\\n",
       "\\end{tabular}\n"
      ],
      "text/markdown": [
       "\n",
       "A data.frame: 6 × 9\n",
       "\n",
       "| <!--/--> | X &lt;int&gt; | ID &lt;int&gt; | TreatmentGroup &lt;chr&gt; | Age &lt;int&gt; | Sex &lt;chr&gt; | ECOG_PS &lt;int&gt; | GFR &lt;int&gt; | Time &lt;dbl&gt; | Event &lt;int&gt; |\n",
       "|---|---|---|---|---|---|---|---|---|---|\n",
       "| 1 | 1 | 1 | Treatment | 73 | Female | 2 |  83 |  0.6 | 1 |\n",
       "| 2 | 2 | 2 | Treatment | 62 | Male   | 0 |  86 |  6.3 | 1 |\n",
       "| 3 | 3 | 3 | Treatment | 61 | Female | 0 |  98 | 57.7 | 0 |\n",
       "| 4 | 4 | 4 | Treatment | 66 | Male   | 1 |  58 |  0.7 | 1 |\n",
       "| 5 | 5 | 5 | Treatment | 88 | Female | 0 | 120 | 30.7 | 0 |\n",
       "| 6 | 6 | 6 | Treatment | 73 | Male   | 0 |  55 |  6.5 | 1 |\n",
       "\n"
      ],
      "text/plain": [
       "  X ID TreatmentGroup Age Sex    ECOG_PS GFR Time Event\n",
       "1 1 1  Treatment      73  Female 2        83  0.6 1    \n",
       "2 2 2  Treatment      62  Male   0        86  6.3 1    \n",
       "3 3 3  Treatment      61  Female 0        98 57.7 0    \n",
       "4 4 4  Treatment      66  Male   1        58  0.7 1    \n",
       "5 5 5  Treatment      88  Female 0       120 30.7 0    \n",
       "6 6 6  Treatment      73  Male   0        55  6.5 1    "
      ]
     },
     "metadata": {},
     "output_type": "display_data"
    },
    {
     "data": {
      "text/plain": [
       "       X                ID         TreatmentGroup          Age      \n",
       " Min.   :  1.00   Min.   :  1.00   Length:300         Min.   :38.0  \n",
       " 1st Qu.: 75.75   1st Qu.: 75.75   Class :character   1st Qu.:59.0  \n",
       " Median :150.50   Median :150.50   Mode  :character   Median :65.0  \n",
       " Mean   :150.50   Mean   :150.50                      Mean   :65.3  \n",
       " 3rd Qu.:225.25   3rd Qu.:225.25                      3rd Qu.:72.0  \n",
       " Max.   :300.00   Max.   :300.00                      Max.   :91.0  \n",
       "     Sex               ECOG_PS            GFR              Time       \n",
       " Length:300         Min.   :0.0000   Min.   : 30.00   Min.   : 0.000  \n",
       " Class :character   1st Qu.:0.0000   1st Qu.: 66.00   1st Qu.: 2.600  \n",
       " Mode  :character   Median :1.0000   Median : 81.00   Median : 5.900  \n",
       "                    Mean   :0.8167   Mean   : 78.89   Mean   : 9.673  \n",
       "                    3rd Qu.:1.0000   3rd Qu.: 91.00   3rd Qu.:13.600  \n",
       "                    Max.   :2.0000   Max.   :120.00   Max.   :57.700  \n",
       "     Event     \n",
       " Min.   :0.00  \n",
       " 1st Qu.:1.00  \n",
       " Median :1.00  \n",
       " Mean   :0.76  \n",
       " 3rd Qu.:1.00  \n",
       " Max.   :1.00  "
      ]
     },
     "metadata": {},
     "output_type": "display_data"
    }
   ],
   "source": [
    "# a first look at the data\n",
    "head(data)\n",
    "summary(data)"
   ]
  },
  {
   "cell_type": "code",
   "execution_count": null,
   "id": "58cb4f11",
   "metadata": {
    "vscode": {
     "languageId": "r"
    }
   },
   "outputs": [],
   "source": []
  }
 ],
 "metadata": {
  "kernelspec": {
   "display_name": "R",
   "language": "R",
   "name": "ir"
  },
  "language_info": {
   "codemirror_mode": "r",
   "file_extension": ".r",
   "mimetype": "text/x-r-source",
   "name": "R",
   "pygments_lexer": "r",
   "version": "4.3.1"
  }
 },
 "nbformat": 4,
 "nbformat_minor": 5
}
